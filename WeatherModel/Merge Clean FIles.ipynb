{
 "cells": [
  {
   "cell_type": "code",
   "execution_count": 1,
   "id": "3f87ed22-59e7-4ce9-8c2c-83d644b44220",
   "metadata": {},
   "outputs": [],
   "source": [
    "import pandas as pd\n",
    "import numpy as np\n",
    "from matplotlib import pyplot as plt\n",
    "import seaborn as sns\n",
    "import calendar\n",
    "import string\n",
    "from string import punctuation\n",
    "from itertools import chain\n",
    "\n",
    "from sklearn.model_selection import train_test_split\n",
    "from sklearn.metrics import recall_score, f1_score\n",
    "\n",
    "from sklearn.feature_extraction.text import CountVectorizer\n",
    "from sklearn.feature_extraction.text import TfidfVectorizer\n",
    "from sklearn.linear_model import LogisticRegression\n",
    "from sklearn.decomposition import NMF, LatentDirichletAllocation, TruncatedSVD\n",
    "from sklearn.feature_selection import SelectPercentile, chi2, f_regression, f_classif\n",
    "\n",
    "from sklearn import svm\n",
    "from sklearn.utils import shuffle\n",
    "\n",
    "df = pd.read_csv('Arima cleaned.csv', encoding='latin1')  #load Datafield csv\n",
    "df2 = pd.read_csv('Crown Point cleaned.csv', encoding='latin1')  #load Datafield csv\n",
    "df3 = pd.read_csv('Port of Spain cleaned.csv', encoding='latin1')  #load Datafield csv\n",
    "df4 = pd.read_csv('Rio Claro-Mayaro cleaned.csv', encoding='latin1')  #load Datafield csv\n",
    "df5 = pd.read_csv('San Fernando cleaned.csv', encoding='latin1')  #load Datafield csv\n",
    "df6 = pd.read_csv('Piarco cleaned.csv', encoding='latin1')  #load Datafield csv\n",
    "\n",
    "pd.options.mode.copy_on_write = True "
   ]
  },
  {
   "cell_type": "code",
   "execution_count": 2,
   "id": "c0dc9aa3-0ada-45e6-90cd-0edd0eda4989",
   "metadata": {},
   "outputs": [],
   "source": [
    "import pandas as pd\n",
    "\n",
    "stacked_df = pd.concat([df, df2, df3, df4, df5, df6])\n",
    "stacked_df.to_csv(\"Merged_DataSets.csv\", index=False)\n"
   ]
  }
 ],
 "metadata": {
  "kernelspec": {
   "display_name": "Python [conda env:base] *",
   "language": "python",
   "name": "conda-base-py"
  },
  "language_info": {
   "codemirror_mode": {
    "name": "ipython",
    "version": 3
   },
   "file_extension": ".py",
   "mimetype": "text/x-python",
   "name": "python",
   "nbconvert_exporter": "python",
   "pygments_lexer": "ipython3",
   "version": "3.12.7"
  }
 },
 "nbformat": 4,
 "nbformat_minor": 5
}
