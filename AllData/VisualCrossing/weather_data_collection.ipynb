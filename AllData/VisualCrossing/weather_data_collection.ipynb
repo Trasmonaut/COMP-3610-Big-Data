{
 "cells": [
  {
   "cell_type": "code",
   "execution_count": 4,
   "id": "37cc1b44-3589-4d0f-aa06-4e5da15c6c1a",
   "metadata": {},
   "outputs": [
    {
     "name": "stdout",
     "output_type": "stream",
     "text": [
      "Weather data for 2000 has been saved to 'weather_data.csv'\n",
      "Weather data for 2001 has been saved to 'weather_data.csv'\n",
      "Weather data for 2002 has been saved to 'weather_data.csv'\n",
      "Weather data for 2003 has been saved to 'weather_data.csv'\n",
      "Weather data for 2004 has been saved to 'weather_data.csv'\n",
      "Weather data for 2005 has been saved to 'weather_data.csv'\n",
      "Weather data for 2006 has been saved to 'weather_data.csv'\n",
      "Weather data for 2007 has been saved to 'weather_data.csv'\n",
      "Weather data for 2008 has been saved to 'weather_data.csv'\n",
      "Weather data for 2009 has been saved to 'weather_data.csv'\n",
      "Weather data for 2010 has been saved to 'weather_data.csv'\n",
      "Weather data for 2011 has been saved to 'weather_data.csv'\n",
      "Weather data for 2012 has been saved to 'weather_data.csv'\n",
      "Weather data for 2013 has been saved to 'weather_data.csv'\n",
      "Weather data for 2014 has been saved to 'weather_data.csv'\n",
      "Weather data for 2015 has been saved to 'weather_data.csv'\n",
      "Weather data for 2016 has been saved to 'weather_data.csv'\n",
      "Weather data for 2017 has been saved to 'weather_data.csv'\n",
      "Weather data for 2018 has been saved to 'weather_data.csv'\n",
      "Weather data for 2019 has been saved to 'weather_data.csv'\n",
      "Weather data for 2020 has been saved to 'weather_data.csv'\n",
      "Error occurred while fetching data for 2021: HTTP Error 429: \n",
      "Error occurred while fetching data for 2022: HTTP Error 429: \n",
      "Error occurred while fetching data for 2023: HTTP Error 429: \n",
      "Error occurred while fetching data for 2024: HTTP Error 429: \n",
      "Error occurred while fetching data for 2025: HTTP Error 429: \n"
     ]
    }
   ],
   "source": [
    "import urllib.request\n",
    "import csv\n",
    "import codecs\n",
    "\n",
    "# Define base URL and your API key\n",
    "base_url = \"https://weather.visualcrossing.com/VisualCrossingWebServices/rest/services/timeline/\"\n",
    "location = \"Port%20of%20Spain%2C%20Trinidad%2C%20Trinidad%20And%20Tobago\"\n",
    "key = \"YE8Q69MV94F3F7P7KK22RGSZ3\"\n",
    "unit_group = \"us\"\n",
    "include = \"days\"\n",
    "content_type = \"csv\"\n",
    "\n",
    "# Define the year range you want to query\n",
    "start_year = 2000\n",
    "end_year = 2025\n",
    "\n",
    "# Function to fetch data for a specific year and save to a CSV file\n",
    "def fetch_weather_data_for_year(year):\n",
    "    url = f\"{base_url}{location}/{year}-01-01/{year}-12-31?unitGroup={unit_group}&include={include}&key={key}&contentType={content_type}\"\n",
    "    \n",
    "    try:\n",
    "        # Make the request to fetch data\n",
    "        ResultBytes = urllib.request.urlopen(url)\n",
    "        \n",
    "        # Parse the result as CSV\n",
    "        CSVText = csv.reader(codecs.iterdecode(ResultBytes, 'utf-8'))\n",
    "        \n",
    "        # Open the CSV file in append mode to add data for each year\n",
    "        with open('weather_data.csv', mode='a', newline='', encoding='utf-8') as csv_file:\n",
    "            csv_writer = csv.writer(csv_file)\n",
    "            \n",
    "            # Write each row from the CSVText to the file\n",
    "            for row in CSVText:\n",
    "                csv_writer.writerow(row)\n",
    "        \n",
    "        print(f\"Weather data for {year} has been saved to 'weather_data.csv'\")\n",
    "    \n",
    "    except Exception as e:\n",
    "        print(f\"Error occurred while fetching data for {year}: {e}\")\n",
    "\n",
    "# Loop through each year in the defined range\n",
    "for year in range(start_year, end_year + 1):\n",
    "    fetch_weather_data_for_year(year)\n"
   ]
  },
  {
   "cell_type": "markdown",
   "id": "67f29b32-d4b4-415f-a6f4-ec9b95650226",
   "metadata": {},
   "source": [
    "Max for records obtainable by account reached. Therefore couldnt obtain data for 2021-2025"
   ]
  },
  {
   "cell_type": "code",
   "execution_count": 25,
   "id": "afa46644-1b87-4356-a973-6aa7fe5fcadf",
   "metadata": {},
   "outputs": [],
   "source": [
    "import pandas as pd\n",
    "\n",
    "# Load the CSV file, skip the first row which is the correct header\n",
    "df = pd.read_csv('weather_data.csv', header=None)\n",
    "\n",
    "# The first row of the dataframe is the header we want to remove from subsequent rows\n",
    "header_row = df.iloc[0]\n",
    "\n",
    "# Remove the first row (since it's the header)\n",
    "df = df[1:]\n",
    "\n",
    "# Reset the column names to the correct header\n",
    "df.columns = header_row\n",
    "\n",
    "# Remove any rows that match the header (ignoring case and extra spaces)\n",
    "df_cleaned = df[~df.apply(lambda row: row.astype(str).str.strip().tolist() == header_row.astype(str).str.strip().tolist(), axis=1)]"
   ]
  },
  {
   "cell_type": "code",
   "execution_count": 26,
   "id": "9b2567d7-707c-43e7-b513-71ec5d51bd0b",
   "metadata": {},
   "outputs": [],
   "source": [
    "# If a record exists without values for these three variables, then that record has no significant data\n",
    "columns_to_check = ['temp', 'tempmax', 'tempmin']\n",
    "\n",
    "# Drop rows where all of these columns have missing values\n",
    "df_cleaned = df_cleaned.dropna(subset=columns_to_check, how='all')\n",
    "\n",
    "# Drop unnecessary columns. Columns with no relevance to Trinidad and Tobago (like 'snow'), columns with recurring values, and columns with excessive missing values.\n",
    "df_cleaned = df_cleaned.drop(columns=['snow', 'snowdepth', 'preciptype', 'windgust', 'severerisk'])\n",
    "\n",
    "# Save the cleaned data to a new CSV file\n",
    "df_cleaned.to_csv('cleaned_weather_data.csv', index=False)"
   ]
  },
  {
   "cell_type": "code",
   "execution_count": null,
   "id": "90bb3ef1-8d9a-4c10-afb5-c6bb2f694f1c",
   "metadata": {},
   "outputs": [],
   "source": []
  }
 ],
 "metadata": {
  "kernelspec": {
   "display_name": "Python [conda env:base] *",
   "language": "python",
   "name": "conda-base-py"
  },
  "language_info": {
   "codemirror_mode": {
    "name": "ipython",
    "version": 3
   },
   "file_extension": ".py",
   "mimetype": "text/x-python",
   "name": "python",
   "nbconvert_exporter": "python",
   "pygments_lexer": "ipython3",
   "version": "3.12.7"
  }
 },
 "nbformat": 4,
 "nbformat_minor": 5
}
